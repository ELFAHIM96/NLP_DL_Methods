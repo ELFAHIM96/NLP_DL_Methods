{
 "cells": [
  {
   "cell_type": "code",
   "execution_count": 1,
   "id": "cabd1881",
   "metadata": {},
   "outputs": [],
   "source": [
    "import torch\n",
    "import torch.nn.functional as F\n",
    "import matplotlib.pyplot as plt \n",
    "%matplotlib inline"
   ]
  },
  {
   "cell_type": "markdown",
   "id": "0887bf8d",
   "metadata": {},
   "source": [
    "# Read all the words"
   ]
  },
  {
   "cell_type": "code",
   "execution_count": 3,
   "id": "8877da3e",
   "metadata": {},
   "outputs": [
    {
     "data": {
      "text/plain": [
       "['emma', 'olivia', 'ava', 'isabella', 'sophia']"
      ]
     },
     "execution_count": 3,
     "metadata": {},
     "output_type": "execute_result"
    }
   ],
   "source": [
    "words = open('names.txt', 'r').read().splitlines()\n",
    "words[:5]\n"
   ]
  },
  {
   "cell_type": "code",
   "execution_count": 6,
   "id": "9f6f2cfb",
   "metadata": {},
   "outputs": [],
   "source": [
    "#build the vocabolary od characters and mapping  to/ from integers\n",
    "\n",
    "chars = sorted(list(set(''.join(words))))\n",
    "stoi = {s:i+1 for i, s in enumerate(chars)}\n",
    "stoi['.'] = 0\n",
    "itos = {i:s for s,i in stoi.items()}"
   ]
  },
  {
   "cell_type": "code",
   "execution_count": 11,
   "id": "c42e5ca1",
   "metadata": {},
   "outputs": [
    {
     "data": {
      "text/plain": [
       "{'a': 1,\n",
       " 'b': 2,\n",
       " 'c': 3,\n",
       " 'd': 4,\n",
       " 'e': 5,\n",
       " 'f': 6,\n",
       " 'g': 7,\n",
       " 'h': 8,\n",
       " 'i': 9,\n",
       " 'j': 10,\n",
       " 'k': 11,\n",
       " 'l': 12,\n",
       " 'm': 13,\n",
       " 'n': 14,\n",
       " 'o': 15,\n",
       " 'p': 16,\n",
       " 'q': 17,\n",
       " 'r': 18,\n",
       " 's': 19,\n",
       " 't': 20,\n",
       " 'u': 21,\n",
       " 'v': 22,\n",
       " 'w': 23,\n",
       " 'x': 24,\n",
       " 'y': 25,\n",
       " 'z': 26,\n",
       " '.': 0}"
      ]
     },
     "execution_count": 11,
     "metadata": {},
     "output_type": "execute_result"
    }
   ],
   "source": [
    "stoi"
   ]
  },
  {
   "cell_type": "code",
   "execution_count": 12,
   "id": "6d3f3821",
   "metadata": {},
   "outputs": [
    {
     "name": "stdout",
     "output_type": "stream",
     "text": [
      "emma\n",
      "... ---> e\n",
      "..e ---> m\n",
      ".em ---> m\n",
      "emm ---> a\n",
      "mma ---> .\n",
      "olivia\n",
      "... ---> o\n",
      "..o ---> l\n",
      ".ol ---> i\n",
      "oli ---> v\n",
      "liv ---> i\n",
      "ivi ---> a\n",
      "via ---> .\n",
      "ava\n",
      "... ---> a\n",
      "..a ---> v\n",
      ".av ---> a\n",
      "ava ---> .\n",
      "isabella\n",
      "... ---> i\n",
      "..i ---> s\n",
      ".is ---> a\n",
      "isa ---> b\n",
      "sab ---> e\n",
      "abe ---> l\n",
      "bel ---> l\n",
      "ell ---> a\n",
      "lla ---> .\n",
      "sophia\n",
      "... ---> s\n",
      "..s ---> o\n",
      ".so ---> p\n",
      "sop ---> h\n",
      "oph ---> i\n",
      "phi ---> a\n",
      "hia ---> .\n"
     ]
    }
   ],
   "source": [
    "# build the dataset\n",
    "\n",
    "block_size = 3\n",
    "X, Y = [], []\n",
    "\n",
    "for w in words[:5]:\n",
    "    print(w)\n",
    "    context = [0] * block_size\n",
    "    for ch in w + '.':\n",
    "        ix = stoi[ch]\n",
    "        X.append(context)\n",
    "        Y.append(ix)\n",
    "        print(''.join(itos[i] for i in context), '--->', itos[ix])\n",
    "        context = context[1:]+[ix]\n",
    "        \n",
    "X = torch.tensor(X)\n",
    "Y = torch.tensor(Y)\n"
   ]
  },
  {
   "cell_type": "code",
   "execution_count": 13,
   "id": "a9e8de97",
   "metadata": {},
   "outputs": [
    {
     "data": {
      "text/plain": [
       "(torch.Size([32, 3]), torch.int64, torch.Size([32]), torch.int64)"
      ]
     },
     "execution_count": 13,
     "metadata": {},
     "output_type": "execute_result"
    }
   ],
   "source": [
    "X.shape, X.dtype, Y.shape, Y.dtype"
   ]
  },
  {
   "cell_type": "code",
   "execution_count": 15,
   "id": "5ddda2b6",
   "metadata": {},
   "outputs": [],
   "source": [
    "C  =  torch.randn((27, 2))"
   ]
  },
  {
   "cell_type": "code",
   "execution_count": 16,
   "id": "7f6c2444",
   "metadata": {},
   "outputs": [
    {
     "data": {
      "text/plain": [
       "tensor([[-0.1119,  0.2636],\n",
       "        [-0.6989,  2.1506],\n",
       "        [-0.7149, -0.5945],\n",
       "        [-0.8677,  0.7291],\n",
       "        [-1.4325, -0.0783],\n",
       "        [ 0.5118, -0.7719],\n",
       "        [ 0.4522, -0.5731],\n",
       "        [-0.6922,  0.4657],\n",
       "        [ 0.1393, -0.2769],\n",
       "        [-1.0653,  1.0387],\n",
       "        [-0.1632,  0.6185],\n",
       "        [ 1.3196,  1.5815],\n",
       "        [ 0.6852,  1.2500],\n",
       "        [ 1.6148, -0.4787],\n",
       "        [-0.9683,  0.5787],\n",
       "        [-0.9439, -0.2379],\n",
       "        [ 0.5031,  0.4044],\n",
       "        [-0.2047,  0.3614],\n",
       "        [-0.3804, -0.9753],\n",
       "        [-0.4532, -0.4589],\n",
       "        [ 0.7407,  0.2495],\n",
       "        [ 0.9104,  0.0138],\n",
       "        [-1.2113, -0.6081],\n",
       "        [ 1.0128, -0.5024],\n",
       "        [ 0.5786, -0.5936],\n",
       "        [-1.3831,  2.6347],\n",
       "        [ 0.2767, -0.4244]])"
      ]
     },
     "execution_count": 16,
     "metadata": {},
     "output_type": "execute_result"
    }
   ],
   "source": [
    "C"
   ]
  },
  {
   "cell_type": "code",
   "execution_count": 17,
   "id": "21ae2cae",
   "metadata": {},
   "outputs": [
    {
     "data": {
      "text/plain": [
       "tensor([ 0.5118, -0.7719])"
      ]
     },
     "execution_count": 17,
     "metadata": {},
     "output_type": "execute_result"
    }
   ],
   "source": [
    "C[5]"
   ]
  },
  {
   "cell_type": "code",
   "execution_count": 21,
   "id": "9605c560",
   "metadata": {},
   "outputs": [
    {
     "data": {
      "text/plain": [
       "tensor([ 0.5118, -0.7719])"
      ]
     },
     "execution_count": 21,
     "metadata": {},
     "output_type": "execute_result"
    }
   ],
   "source": [
    "F.one_hot(torch.tensor(5), num_classes=27).float() @ C"
   ]
  },
  {
   "cell_type": "code",
   "execution_count": 22,
   "id": "9836803c",
   "metadata": {},
   "outputs": [
    {
     "data": {
      "text/plain": [
       "tensor([[[-0.1119,  0.2636],\n",
       "         [-0.1119,  0.2636],\n",
       "         [-0.1119,  0.2636]],\n",
       "\n",
       "        [[-0.1119,  0.2636],\n",
       "         [-0.1119,  0.2636],\n",
       "         [ 0.5118, -0.7719]],\n",
       "\n",
       "        [[-0.1119,  0.2636],\n",
       "         [ 0.5118, -0.7719],\n",
       "         [ 1.6148, -0.4787]],\n",
       "\n",
       "        [[ 0.5118, -0.7719],\n",
       "         [ 1.6148, -0.4787],\n",
       "         [ 1.6148, -0.4787]],\n",
       "\n",
       "        [[ 1.6148, -0.4787],\n",
       "         [ 1.6148, -0.4787],\n",
       "         [-0.6989,  2.1506]],\n",
       "\n",
       "        [[-0.1119,  0.2636],\n",
       "         [-0.1119,  0.2636],\n",
       "         [-0.1119,  0.2636]],\n",
       "\n",
       "        [[-0.1119,  0.2636],\n",
       "         [-0.1119,  0.2636],\n",
       "         [-0.9439, -0.2379]],\n",
       "\n",
       "        [[-0.1119,  0.2636],\n",
       "         [-0.9439, -0.2379],\n",
       "         [ 0.6852,  1.2500]],\n",
       "\n",
       "        [[-0.9439, -0.2379],\n",
       "         [ 0.6852,  1.2500],\n",
       "         [-1.0653,  1.0387]],\n",
       "\n",
       "        [[ 0.6852,  1.2500],\n",
       "         [-1.0653,  1.0387],\n",
       "         [-1.2113, -0.6081]],\n",
       "\n",
       "        [[-1.0653,  1.0387],\n",
       "         [-1.2113, -0.6081],\n",
       "         [-1.0653,  1.0387]],\n",
       "\n",
       "        [[-1.2113, -0.6081],\n",
       "         [-1.0653,  1.0387],\n",
       "         [-0.6989,  2.1506]],\n",
       "\n",
       "        [[-0.1119,  0.2636],\n",
       "         [-0.1119,  0.2636],\n",
       "         [-0.1119,  0.2636]],\n",
       "\n",
       "        [[-0.1119,  0.2636],\n",
       "         [-0.1119,  0.2636],\n",
       "         [-0.6989,  2.1506]],\n",
       "\n",
       "        [[-0.1119,  0.2636],\n",
       "         [-0.6989,  2.1506],\n",
       "         [-1.2113, -0.6081]],\n",
       "\n",
       "        [[-0.6989,  2.1506],\n",
       "         [-1.2113, -0.6081],\n",
       "         [-0.6989,  2.1506]],\n",
       "\n",
       "        [[-0.1119,  0.2636],\n",
       "         [-0.1119,  0.2636],\n",
       "         [-0.1119,  0.2636]],\n",
       "\n",
       "        [[-0.1119,  0.2636],\n",
       "         [-0.1119,  0.2636],\n",
       "         [-1.0653,  1.0387]],\n",
       "\n",
       "        [[-0.1119,  0.2636],\n",
       "         [-1.0653,  1.0387],\n",
       "         [-0.4532, -0.4589]],\n",
       "\n",
       "        [[-1.0653,  1.0387],\n",
       "         [-0.4532, -0.4589],\n",
       "         [-0.6989,  2.1506]],\n",
       "\n",
       "        [[-0.4532, -0.4589],\n",
       "         [-0.6989,  2.1506],\n",
       "         [-0.7149, -0.5945]],\n",
       "\n",
       "        [[-0.6989,  2.1506],\n",
       "         [-0.7149, -0.5945],\n",
       "         [ 0.5118, -0.7719]],\n",
       "\n",
       "        [[-0.7149, -0.5945],\n",
       "         [ 0.5118, -0.7719],\n",
       "         [ 0.6852,  1.2500]],\n",
       "\n",
       "        [[ 0.5118, -0.7719],\n",
       "         [ 0.6852,  1.2500],\n",
       "         [ 0.6852,  1.2500]],\n",
       "\n",
       "        [[ 0.6852,  1.2500],\n",
       "         [ 0.6852,  1.2500],\n",
       "         [-0.6989,  2.1506]],\n",
       "\n",
       "        [[-0.1119,  0.2636],\n",
       "         [-0.1119,  0.2636],\n",
       "         [-0.1119,  0.2636]],\n",
       "\n",
       "        [[-0.1119,  0.2636],\n",
       "         [-0.1119,  0.2636],\n",
       "         [-0.4532, -0.4589]],\n",
       "\n",
       "        [[-0.1119,  0.2636],\n",
       "         [-0.4532, -0.4589],\n",
       "         [-0.9439, -0.2379]],\n",
       "\n",
       "        [[-0.4532, -0.4589],\n",
       "         [-0.9439, -0.2379],\n",
       "         [ 0.5031,  0.4044]],\n",
       "\n",
       "        [[-0.9439, -0.2379],\n",
       "         [ 0.5031,  0.4044],\n",
       "         [ 0.1393, -0.2769]],\n",
       "\n",
       "        [[ 0.5031,  0.4044],\n",
       "         [ 0.1393, -0.2769],\n",
       "         [-1.0653,  1.0387]],\n",
       "\n",
       "        [[ 0.1393, -0.2769],\n",
       "         [-1.0653,  1.0387],\n",
       "         [-0.6989,  2.1506]]])"
      ]
     },
     "execution_count": 22,
     "metadata": {},
     "output_type": "execute_result"
    }
   ],
   "source": [
    "C[X]"
   ]
  },
  {
   "cell_type": "code",
   "execution_count": 23,
   "id": "37d94636",
   "metadata": {},
   "outputs": [
    {
     "data": {
      "text/plain": [
       "torch.Size([32, 3, 2])"
      ]
     },
     "execution_count": 23,
     "metadata": {},
     "output_type": "execute_result"
    }
   ],
   "source": [
    "C[X].shape"
   ]
  },
  {
   "cell_type": "code",
   "execution_count": 24,
   "id": "dd37737b",
   "metadata": {},
   "outputs": [
    {
     "data": {
      "text/plain": [
       "torch.Size([32, 3, 2])"
      ]
     },
     "execution_count": 24,
     "metadata": {},
     "output_type": "execute_result"
    }
   ],
   "source": [
    "emb = C[X]\n",
    "emb.shape"
   ]
  },
  {
   "cell_type": "code",
   "execution_count": 27,
   "id": "848fc591",
   "metadata": {},
   "outputs": [],
   "source": [
    "W1 = torch.randn((6,100))\n",
    "b1 = torch.rand((100))"
   ]
  },
  {
   "cell_type": "code",
   "execution_count": 34,
   "id": "ec3d8176",
   "metadata": {},
   "outputs": [
    {
     "data": {
      "text/plain": [
       "torch.Size([32, 6])"
      ]
     },
     "execution_count": 34,
     "metadata": {},
     "output_type": "execute_result"
    }
   ],
   "source": [
    "torch.cat(torch.unbind(emb, 1),1).shape"
   ]
  },
  {
   "cell_type": "code",
   "execution_count": 35,
   "id": "ce238c2e",
   "metadata": {},
   "outputs": [],
   "source": [
    "h = torch.tanh(emb.view(32, 6) @ W1 + b1)"
   ]
  },
  {
   "cell_type": "code",
   "execution_count": 36,
   "id": "0f495657",
   "metadata": {},
   "outputs": [
    {
     "data": {
      "text/plain": [
       "torch.Size([32, 100])"
      ]
     },
     "execution_count": 36,
     "metadata": {},
     "output_type": "execute_result"
    }
   ],
   "source": [
    "h.shape"
   ]
  },
  {
   "cell_type": "code",
   "execution_count": 38,
   "id": "6e0b3a00",
   "metadata": {},
   "outputs": [],
   "source": [
    "W2 = torch.randn((100, 27))\n",
    "b2 = torch.randn(27)"
   ]
  },
  {
   "cell_type": "code",
   "execution_count": 40,
   "id": "9b8b9440",
   "metadata": {},
   "outputs": [],
   "source": [
    "logits = h @ W2 + b2"
   ]
  },
  {
   "cell_type": "code",
   "execution_count": 54,
   "id": "dd4f6f88",
   "metadata": {},
   "outputs": [],
   "source": [
    "counts = logits.exp()\n",
    "prob = counts / counts.sum(1, keepdims = True)"
   ]
  },
  {
   "cell_type": "code",
   "execution_count": 52,
   "id": "bfa720b2",
   "metadata": {},
   "outputs": [
    {
     "data": {
      "text/plain": [
       "tensor(1.)"
      ]
     },
     "execution_count": 52,
     "metadata": {},
     "output_type": "execute_result"
    }
   ],
   "source": [
    "prob[0].sum()"
   ]
  },
  {
   "cell_type": "code",
   "execution_count": 57,
   "id": "dbfc1642",
   "metadata": {},
   "outputs": [
    {
     "data": {
      "text/plain": [
       "tensor(11.8003)"
      ]
     },
     "execution_count": 57,
     "metadata": {},
     "output_type": "execute_result"
    }
   ],
   "source": [
    "loss = -prob[torch.arange(32),Y].log().mean()\n",
    "loss"
   ]
  },
  {
   "cell_type": "code",
   "execution_count": 60,
   "id": "b1105027",
   "metadata": {},
   "outputs": [],
   "source": [
    "g = torch.Generator().manual_seed(2147483647)\n",
    "C = torch.randn((27,2), generator = g)\n",
    "W1 = torch.randn((6,100), generator = g)\n",
    "b1 = torch.randn(100, generator = g)\n",
    "W2 = torch.randn((100, 27), generator=g)\n",
    "b2 = torch.randn(27, generator = g)\n",
    "parameters = [C,W1, b1, W2, b2]"
   ]
  },
  {
   "cell_type": "code",
   "execution_count": 61,
   "id": "db929655",
   "metadata": {},
   "outputs": [
    {
     "data": {
      "text/plain": [
       "3481"
      ]
     },
     "execution_count": 61,
     "metadata": {},
     "output_type": "execute_result"
    }
   ],
   "source": [
    "sum(p.nelement() for p in parameters) # number parameters in total\n"
   ]
  },
  {
   "cell_type": "code",
   "execution_count": 62,
   "id": "174a81ec",
   "metadata": {},
   "outputs": [
    {
     "data": {
      "text/plain": [
       "tensor(17.7697)"
      ]
     },
     "execution_count": 62,
     "metadata": {},
     "output_type": "execute_result"
    }
   ],
   "source": [
    "#----------version 1--------------\n",
    "emb = C[X]\n",
    "h = torch.tanh(emb.view(-1, 6) @ W1 + b1) # (32, 100)\n",
    "logits = h @ W2 + b2\n",
    "counts = logits.exp()\n",
    "prob = counts / counts.sum(1, keepdims = True)\n",
    "loss = -prob[torch.arange(32), Y].log().mean()\n",
    "loss"
   ]
  },
  {
   "cell_type": "code",
   "execution_count": 67,
   "id": "d08adeec",
   "metadata": {},
   "outputs": [],
   "source": [
    "for p in parameters:\n",
    "    p.requires_grad = True"
   ]
  },
  {
   "cell_type": "code",
   "execution_count": 69,
   "id": "d4d17981",
   "metadata": {},
   "outputs": [
    {
     "name": "stdout",
     "output_type": "stream",
     "text": [
      "3.985848903656006\n",
      "3.6028308868408203\n",
      "3.2621419429779053\n",
      "2.961381196975708\n",
      "2.6982977390289307\n",
      "2.469712972640991\n",
      "2.271660327911377\n",
      "2.101283550262451\n",
      "1.9571774005889893\n",
      "1.8374857902526855\n",
      "1.7380965948104858\n",
      "1.6535115242004395\n",
      "1.579089879989624\n",
      "1.5117665529251099\n",
      "1.4496047496795654\n",
      "1.3913120031356812\n",
      "1.335992455482483\n",
      "1.283052921295166\n",
      "1.2321909666061401\n",
      "1.18338143825531\n",
      "1.1367990970611572\n",
      "1.092664122581482\n",
      "1.0510923862457275\n",
      "1.0120267868041992\n",
      "0.9752704501152039\n",
      "0.9405565857887268\n",
      "0.9076125025749207\n",
      "0.8761921525001526\n",
      "0.8460890650749207\n",
      "0.817135751247406\n",
      "0.7891992330551147\n",
      "0.7621746063232422\n",
      "0.7359814047813416\n",
      "0.7105579972267151\n",
      "0.6858609318733215\n",
      "0.6618651747703552\n",
      "0.6385656595230103\n",
      "0.6159818172454834\n",
      "0.5941657423973083\n",
      "0.5732105374336243\n",
      "0.553256094455719\n",
      "0.5344880819320679\n",
      "0.5171167254447937\n",
      "0.5013312697410583\n",
      "0.48724257946014404\n",
      "0.4748404920101166\n",
      "0.4639975428581238\n",
      "0.45451444387435913\n",
      "0.4461706876754761\n",
      "0.4387663006782532\n",
      "0.43213313817977905\n",
      "0.4261389374732971\n",
      "0.42067983746528625\n",
      "0.4156753718852997\n",
      "0.41106149554252625\n",
      "0.4067872166633606\n",
      "0.4028105139732361\n",
      "0.3990972936153412\n",
      "0.39561790227890015\n",
      "0.39234766364097595\n",
      "0.38926514983177185\n",
      "0.38635191321372986\n",
      "0.3835916519165039\n",
      "0.3809700310230255\n",
      "0.37847408652305603\n",
      "0.37609294056892395\n",
      "0.3738163709640503\n",
      "0.37163493037223816\n",
      "0.3695409893989563\n",
      "0.3675267696380615\n",
      "0.3655855357646942\n",
      "0.36371129751205444\n",
      "0.3618983328342438\n",
      "0.3601416051387787\n",
      "0.3584362864494324\n",
      "0.3567780554294586\n",
      "0.35516268014907837\n",
      "0.35358691215515137\n",
      "0.35204702615737915\n",
      "0.3505397140979767\n",
      "0.34906232357025146\n",
      "0.3476121127605438\n",
      "0.34618669748306274\n",
      "0.3447836637496948\n",
      "0.3434010148048401\n",
      "0.3420368432998657\n",
      "0.3406899571418762\n",
      "0.33935868740081787\n",
      "0.33804187178611755\n",
      "0.3367388844490051\n",
      "0.3354487717151642\n",
      "0.33417120575904846\n",
      "0.33290591835975647\n",
      "0.33165299892425537\n",
      "0.33041250705718994\n",
      "0.32918494939804077\n",
      "0.3279706537723541\n",
      "0.3267706334590912\n",
      "0.32558542490005493\n",
      "0.324415922164917\n"
     ]
    }
   ],
   "source": [
    "#----------version 1--------------\n",
    "# froward pass\n",
    "for _ in range(100):\n",
    "    emb = C[X]\n",
    "    h = torch.tanh(emb.view(-1, 6) @ W1 + b1) # (32, 100)\n",
    "    logits = h @ W2 + b2\n",
    "    loss = F.cross_entropy(logits, Y)\n",
    "    print(loss.item())\n",
    "    # packward pass\n",
    "    for p in parameters:\n",
    "        p.grad = None\n",
    "    loss.backward()\n",
    "    #update\n",
    "    for p in parameters:\n",
    "        p.data += -0.1 * p.grad\n"
   ]
  },
  {
   "cell_type": "code",
   "execution_count": 66,
   "id": "f73ed479",
   "metadata": {},
   "outputs": [
    {
     "data": {
      "text/plain": [
       "tensor([0.1135, 0.0418, 0.8390, 0.0057])"
      ]
     },
     "execution_count": 66,
     "metadata": {},
     "output_type": "execute_result"
    }
   ],
   "source": []
  },
  {
   "cell_type": "code",
   "execution_count": null,
   "id": "8f9de004",
   "metadata": {},
   "outputs": [],
   "source": []
  }
 ],
 "metadata": {
  "kernelspec": {
   "display_name": "Python 3 (ipykernel)",
   "language": "python",
   "name": "python3"
  },
  "language_info": {
   "codemirror_mode": {
    "name": "ipython",
    "version": 3
   },
   "file_extension": ".py",
   "mimetype": "text/x-python",
   "name": "python",
   "nbconvert_exporter": "python",
   "pygments_lexer": "ipython3",
   "version": "3.9.13"
  }
 },
 "nbformat": 4,
 "nbformat_minor": 5
}
